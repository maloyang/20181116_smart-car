{
 "cells": [
  {
   "cell_type": "markdown",
   "metadata": {
    "collapsed": true
   },
   "source": [
    "# 循線自走車\n",
    "\n",
    "使用紅外線模組偵測黑線，來達成沿線走的功能\n",
    "\n",
    "----\n"
   ]
  },
  {
   "cell_type": "markdown",
   "metadata": {},
   "source": [
    "### 測試紅外線模組\n",
    "\n",
    "- 0:有地板 (亮燈)\n",
    "- 1:無地板 (暗燈)"
   ]
  },
  {
   "cell_type": "markdown",
   "metadata": {},
   "source": [
    "### 循跡自走車 - 2IR\n",
    "\n",
    "- 這一版二輪側為前方，跟之前的教學相反 (因為改用大車)"
   ]
  },
  {
   "cell_type": "code",
   "execution_count": 2,
   "metadata": {
    "scrolled": false
   },
   "outputs": [
    {
     "name": "stdout",
     "output_type": "stream",
     "text": [
      "\u001b[34m** WebSocket connected **\n",
      "\u001b[0mPassword: \u001b[34mReady.\n",
      "\u001b[0m"
     ]
    }
   ],
   "source": [
    "%websocketconnect --password 1234 ws://192.168.43.2:8266"
   ]
  },
  {
   "cell_type": "code",
   "execution_count": 6,
   "metadata": {
    "scrolled": false
   },
   "outputs": [
    {
     "name": "stdout",
     "output_type": "stream",
     "text": [
      "\u001b[34mConnecting to --port=com13 --baud=115200 \u001b[0m\n",
      "\u001b[34mReady.\n",
      "\u001b[0m"
     ]
    }
   ],
   "source": [
    "%serialconnect to --port=com13 --baud=115200"
   ]
  },
  {
   "cell_type": "markdown",
   "metadata": {},
   "source": [
    "## 動作簡單明暸、成效佳的版本"
   ]
  },
  {
   "cell_type": "code",
   "execution_count": 7,
   "metadata": {},
   "outputs": [
    {
     "name": "stdout",
     "output_type": "stream",
     "text": [
      "Sent 106 lines (1990 bytes) to main.py.\n"
     ]
    }
   ],
   "source": [
    "%sendtofile main.py\n",
    "\n",
    "# 定義\n",
    "import machine\n",
    "from machine import Pin\n",
    "from machine import PWM\n",
    "import time\n",
    "\n",
    "# PIN Define:\n",
    "D0 = 16\n",
    "D1 = 5  #PWM\n",
    "D2 = 4  #PWM\n",
    "D3 = 0  #PWM\n",
    "D4 = 2  #PWM, #Led on board\n",
    "D5 = 14 #PWM\n",
    "D6 = 12 #PWM\n",
    "D7 = 13 #PWM\n",
    "D8 = 15 #PWM\n",
    "\n",
    "#Setup PINS\n",
    "led = Pin(D4, Pin.OUT)\n",
    "for i in range(5):\n",
    "    led.value(not led.value())\n",
    "    time.sleep(0.2)\n",
    "    \n",
    "# ir\n",
    "IrR = Pin(D5, Pin.IN) #Right\n",
    "IrL = Pin(D6, Pin.IN) #Left\n",
    "#IrM = Pin(D7, Pin.IN) #Middle\n",
    "\n",
    "# for motor sheilf\n",
    "motor_a1 = machine.Pin(D1, machine.Pin.OUT) #A-, speed\n",
    "motor_a2 = machine.Pin(D3, machine.Pin.OUT) #A+, dir\n",
    "motor_b1 = machine.Pin(D2, machine.Pin.OUT) #B-, speed\n",
    "motor_b2 = machine.Pin(D4, machine.Pin.OUT) #B+, dir\n",
    "FWD = 0\n",
    "REV = 1\n",
    "    \n",
    "def car_fwd():\n",
    "    motor_a1.value(1)    #l\n",
    "    motor_a2.value(FWD)\n",
    "    motor_b1.value(1)    #r\n",
    "    motor_b2.value(FWD)\n",
    "\n",
    "def car_rev():\n",
    "    motor_a1.value(1)    #l\n",
    "    motor_a2.value(REV)\n",
    "    motor_b1.value(1)    #r\n",
    "    motor_b2.value(REV)\n",
    "\n",
    "def car_stop():\n",
    "    motor_a1.value(0)    #l\n",
    "    motor_a2.value(FWD)\n",
    "    motor_b1.value(0)    #r\n",
    "    motor_b2.value(FWD)\n",
    "\n",
    "def car_right():\n",
    "    motor_a1.value(1)     #l\n",
    "    motor_a2.value(FWD)\n",
    "    motor_b1.value(0)     #r\n",
    "    motor_b2.value(FWD)\n",
    "\n",
    "def car_left():\n",
    "    motor_a1.value(0)     #l\n",
    "    motor_a2.value(FWD)\n",
    "    motor_b1.value(1)     #r\n",
    "    motor_b2.value(FWD)\n",
    "\n",
    "# 快速右轉\n",
    "def car_right2():\n",
    "    motor_a1.value(1)    #l\n",
    "    motor_a2.value(FWD)\n",
    "    motor_b1.value(1)    #r\n",
    "    motor_b2.value(REV)    \n",
    "\n",
    "# 快速左轉\n",
    "def car_left2():\n",
    "    motor_a1.value(1)    #l\n",
    "    motor_a2.value(REV)\n",
    "    motor_b1.value(1)    #r\n",
    "    motor_b2.value(FWD)\n",
    "\n",
    "\n",
    "# go~\n",
    "car_fwd()\n",
    "last = ''\n",
    "while(True):\n",
    "\n",
    "    irs = [IrL.value(), IrR.value()]\n",
    "\n",
    "    if last == 'L':\n",
    "        if irs[1] == 1:\n",
    "            last = ''\n",
    "    if last == 'R':\n",
    "        if irs[0] == 1:\n",
    "            last = ''\n",
    "                            \n",
    "    if irs==[1, 0]:\n",
    "        car_left()\n",
    "        last = 'L'\n",
    "    elif irs==[0,1]:\n",
    "        car_right()\n",
    "        last = 'R'\n",
    "    elif irs==[1,1]:\n",
    "        car_stop()\n",
    "    #else:\n",
    "    #    car_fwd()\n",
    "        "
   ]
  },
  {
   "cell_type": "markdown",
   "metadata": {},
   "source": [
    "----\n",
    "\n",
    "### 範例程式"
   ]
  },
  {
   "cell_type": "code",
   "execution_count": 8,
   "metadata": {
    "scrolled": false
   },
   "outputs": [
    {
     "name": "stdout",
     "output_type": "stream",
     "text": [
      "\u001b[34m** WebSocket connected **\n",
      "\u001b[0mPassword: \n",
      "WebREPL connected\n",
      ">>> \u001b[34mReady.\n",
      "\u001b[0m"
     ]
    }
   ],
   "source": [
    "%websocketconnect --password 1234 ws://192.168.43.245:8266"
   ]
  },
  {
   "cell_type": "code",
   "execution_count": 9,
   "metadata": {},
   "outputs": [
    {
     "name": "stdout",
     "output_type": "stream",
     "text": [
      "Sent 95 lines (1739 bytes) to main.py.\n"
     ]
    }
   ],
   "source": [
    "%sendtofile main.py\n",
    "\n",
    "# 定義\n",
    "import machine\n",
    "from machine import Pin\n",
    "from machine import PWM\n",
    "import time\n",
    "\n",
    "# PIN Define:\n",
    "D0 = 16\n",
    "D1 = 5  #PWM\n",
    "D2 = 4  #PWM\n",
    "D3 = 0  #PWM\n",
    "D4 = 2  #PWM, #Led on board\n",
    "D5 = 14 #PWM\n",
    "D6 = 12 #PWM\n",
    "D7 = 13 #PWM\n",
    "D8 = 15 #PWM\n",
    "\n",
    "#Setup PINS\n",
    "led = Pin(D4, Pin.OUT)\n",
    "for i in range(5):\n",
    "    led.value(not led.value())\n",
    "    time.sleep(0.2)\n",
    "    \n",
    "# ir\n",
    "IrR = Pin(D5, Pin.IN) #Right\n",
    "IrL = Pin(D6, Pin.IN) #Left\n",
    "#IrM = Pin(D7, Pin.IN) #Middle\n",
    "\n",
    "# for motor sheilf\n",
    "motor_a1 = machine.Pin(D1, machine.Pin.OUT) #A-, speed\n",
    "motor_a2 = machine.Pin(D3, machine.Pin.OUT) #A+, dir\n",
    "motor_b1 = machine.Pin(D2, machine.Pin.OUT) #B-, speed\n",
    "motor_b2 = machine.Pin(D4, machine.Pin.OUT) #B+, dir\n",
    "FWD = 0\n",
    "REV = 1\n",
    "    \n",
    "def car_fwd():\n",
    "    motor_a1.value(1)    #l\n",
    "    motor_a2.value(FWD)\n",
    "    motor_b1.value(1)    #r\n",
    "    motor_b2.value(FWD)\n",
    "\n",
    "def car_rev():\n",
    "    motor_a1.value(1)    #l\n",
    "    motor_a2.value(REV)\n",
    "    motor_b1.value(1)    #r\n",
    "    motor_b2.value(REV)\n",
    "\n",
    "def car_stop():\n",
    "    motor_a1.value(0)    #l\n",
    "    motor_a2.value(FWD)\n",
    "    motor_b1.value(0)    #r\n",
    "    motor_b2.value(FWD)\n",
    "\n",
    "def car_right():\n",
    "    motor_a1.value(1)     #l\n",
    "    motor_a2.value(FWD)\n",
    "    motor_b1.value(0)     #r\n",
    "    motor_b2.value(FWD)\n",
    "\n",
    "def car_left():\n",
    "    motor_a1.value(0)     #l\n",
    "    motor_a2.value(FWD)\n",
    "    motor_b1.value(1)     #r\n",
    "    motor_b2.value(FWD)\n",
    "\n",
    "# 快速右轉\n",
    "def car_right2():\n",
    "    motor_a1.value(1)    #l\n",
    "    motor_a2.value(FWD)\n",
    "    motor_b1.value(1)    #r\n",
    "    motor_b2.value(REV)    \n",
    "\n",
    "# 快速左轉\n",
    "def car_left2():\n",
    "    motor_a1.value(1)    #l\n",
    "    motor_a2.value(REV)\n",
    "    motor_b1.value(1)    #r\n",
    "    motor_b2.value(FWD)\n",
    "\n",
    "\n",
    "# go~\n",
    "car_fwd()\n",
    "last = ''\n",
    "while(True):\n",
    "\n",
    "    car_right()\n",
    "    time.sleep(5)\n",
    "    car_left()\n",
    "    time.sleep(5)\n",
    "    car_right2()\n",
    "    time.sleep(5)\n",
    "    car_left2()\n",
    "    time.sleep(5)\n",
    "        "
   ]
  },
  {
   "cell_type": "code",
   "execution_count": null,
   "metadata": {},
   "outputs": [],
   "source": []
  }
 ],
 "metadata": {
  "kernelspec": {
   "display_name": "MicroPython - USB",
   "language": "micropython",
   "name": "micropython"
  },
  "language_info": {
   "codemirror_mode": "python",
   "file_extension": ".py",
   "mimetype": "text/python",
   "name": "micropython"
  }
 },
 "nbformat": 4,
 "nbformat_minor": 2
}
