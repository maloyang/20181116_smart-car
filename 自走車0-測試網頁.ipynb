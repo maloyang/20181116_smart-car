{
 "cells": [
  {
   "cell_type": "markdown",
   "metadata": {},
   "source": [
    "# 自走車0 - 測試網頁\n",
    "\n",
    "測試元件的網頁程式\n",
    "\n",
    "----\n"
   ]
  },
  {
   "cell_type": "markdown",
   "metadata": {},
   "source": [
    "## 系統配置\n",
    "\n",
    "### ESP12的電機板\n",
    "\n",
    "- 電機電源（VM）：4.5V～36V，可單獨供電\n",
    "- 控制電源（VIN）：4.5V～9V（10VMAX），可單獨供電\n",
    "- 但我們這邊把VM, VIN短路，比較省事\n",
    "- 其中，D1，D3（A電機）；D2，D4（B電機）\n",
    "\n",
    "![電機板](image/motor_board.png)\n",
    "\n",
    "### 供電\n",
    "\n",
    "- 以行動電源供電即可\n",
    "- 當然，如果能夠分別供電的話，系統會更加的穩定\n",
    "\n",
    "### 馬達\n",
    "\n",
    "- TT減速馬達(48:1)\n",
    "\n",
    "### 紅外線模組\n",
    "\n",
    "發出紅外線光，並偵測反射回來的紅外線來確認是否有物體在前方\n",
    "\n",
    "- 0:有地板 (亮燈)\n",
    "- 1:無地板 (暗燈)\n",
    "\n",
    "----"
   ]
  },
  {
   "cell_type": "markdown",
   "metadata": {},
   "source": [
    "## 測試程式燒錄"
   ]
  },
  {
   "cell_type": "code",
   "execution_count": 91,
   "metadata": {},
   "outputs": [
    {
     "name": "stdout",
     "output_type": "stream",
     "text": [
      "\u001b[34mConnecting to --port=com13 --baud=115200 \u001b[0m\n",
      "\u001b[34mReady.\n",
      "\u001b[0m"
     ]
    }
   ],
   "source": [
    "%serialconnect to --port=com13 --baud=115200"
   ]
  },
  {
   "cell_type": "code",
   "execution_count": 95,
   "metadata": {
    "scrolled": true
   },
   "outputs": [
    {
     "name": "stdout",
     "output_type": "stream",
     "text": [
      "\u001b[34m** WebSocket connected **\n",
      "\u001b[0mPassword: \u001b[34mReady.\n",
      "\u001b[0m"
     ]
    }
   ],
   "source": [
    "%websocketconnect --password 1234 ws://192.168.43.73:8266"
   ]
  },
  {
   "cell_type": "markdown",
   "metadata": {},
   "source": [
    "- 燒錄ap config"
   ]
  },
  {
   "cell_type": "code",
   "execution_count": 92,
   "metadata": {
    "scrolled": true
   },
   "outputs": [
    {
     "name": "stdout",
     "output_type": "stream",
     "text": [
      "Sent 2 lines (18 bytes) to ap.txt.\n"
     ]
    }
   ],
   "source": [
    "%sendtofile ap.txt\n",
    "\n",
    "malo-ap\n",
    "0928380233"
   ]
  },
  {
   "cell_type": "markdown",
   "metadata": {},
   "source": [
    "- 燒錄main.py"
   ]
  },
  {
   "cell_type": "code",
   "execution_count": 93,
   "metadata": {},
   "outputs": [
    {
     "name": "stdout",
     "output_type": "stream",
     "text": [
      "Sent 197 lines (4426 bytes) to main.py.\n"
     ]
    }
   ],
   "source": [
    "%sendtofile main.py\n",
    "# -*- coding: utf-8 -*-\n",
    "\n",
    "import machine\n",
    "import network\n",
    "import time\n",
    "import os\n",
    "\n",
    "#- check ap config file\n",
    "AP_SSID = 'upy'\n",
    "AP_PWD = 'pypypypy'\n",
    "ap_config = None\n",
    "ap_config_fn = 'ap.txt'\n",
    "if ap_config_fn in os.listdir():\n",
    "    print('ap config here!')\n",
    "    f = open(ap_config_fn)\n",
    "    ap_config = f.read()\n",
    "    f.close()\n",
    "if ap_config:\n",
    "    print( ('ap_config:', ap_config))\n",
    "    ap_config = ap_config.split('\\n')\n",
    "    AP_SSID = ap_config[0].strip()\n",
    "    AP_PWD = ap_config[1].strip()\n",
    "print('line to: ', (AP_SSID, AP_PWD))\n",
    "\n",
    "#-- 連到AP 為Station\n",
    "sta_if = network.WLAN(network.STA_IF)\n",
    "sta_if.active(True)\n",
    "sta_if.connect(AP_SSID, AP_PWD)\n",
    "sta_if.isconnected()\n",
    "for i in range(20):\n",
    "    time.sleep(0.5)\n",
    "    if sta_if.isconnected():\n",
    "        break\n",
    "sta_ip = ''\n",
    "if sta_if.isconnected():\n",
    "    print('connected!  --> ', sta_if.ifconfig())\n",
    "    sta_ip = sta_if.ifconfig()[0]\n",
    "else:\n",
    "    print('not connected!  --> ', sta_if.ifconfig())\n",
    "\n",
    "#-- 當AP，並指定\n",
    "uid = machine.unique_id()\n",
    "#ap_if.ifconfig()\n",
    "# ('192.168.4.1', '255.255.255.0', '192.168.4.1', '192.168.43.1')\n",
    "# (ip, mask, gateway, dns)\n",
    "my_sn = '%02X%02X' %(uid[0], uid[1])\n",
    "\n",
    "#- Change name/password/ip of ESP8266's AP:\n",
    "ap_if = network.WLAN(network.AP_IF)\n",
    "#ap_if.ifconfig([my_ip, my_mask, my_gw, my_dns])\n",
    "\n",
    "my_ssid = 'upy_%s_%s' %(my_sn, sta_ip)\n",
    "#ap_if.config(essid = my_ssid)#改ssid，馬上生效\n",
    "ap_if.config(essid=my_ssid, authmode=network.AUTH_WPA_WPA2_PSK, password=\"12345678\")\n",
    "#DHCP 功能micropython預設就有，不用設定\n",
    "#AP的IP，每次重開都會回到預設值，因此需要開機時就設定\n",
    "#一般是配給AP ip的下一號ip\n",
    "\n",
    "\n",
    "import socket\n",
    "from machine import Pin\n",
    "from machine import PWM\n",
    "import dht\n",
    "\n",
    "# PIN Define:\n",
    "D0 = 16\n",
    "D1 = 5  #PWM\n",
    "D2 = 4  #PWM\n",
    "D3 = 0  #PWM\n",
    "D4 = 2  #PWM, #Led on board\n",
    "D5 = 14 #PWM\n",
    "D6 = 12 #PWM\n",
    "D7 = 13 #PWM\n",
    "D8 = 15 #PWM\n",
    "\n",
    "#Setup PINS\n",
    "led = Pin(D4, Pin.OUT)\n",
    "led.value(0)\n",
    "for i in range(6):\n",
    "    led.value(not led.value())\n",
    "    time.sleep(0.2)\n",
    "    \n",
    "# ir\n",
    "IrR = Pin(D5, Pin.IN) #Right\n",
    "IrL = Pin(D6, Pin.IN) #Left\n",
    "#IrM = Pin(D7, Pin.IN) #Middle\n",
    "\n",
    "# for motor sheilf\n",
    "motor_a1 = machine.Pin(D1, machine.Pin.OUT) #A-, speed\n",
    "motor_a2 = machine.Pin(D3, machine.Pin.OUT) #A+, dir\n",
    "motor_b1 = machine.Pin(D2, machine.Pin.OUT) #B-, speed\n",
    "motor_b2 = machine.Pin(D4, machine.Pin.OUT) #B+, dir\n",
    "FWD = 0\n",
    "REV = 1\n",
    "    \n",
    "def car_fwd():\n",
    "    motor_a1.value(1)    #l\n",
    "    motor_a2.value(FWD)\n",
    "    motor_b1.value(1)    #r\n",
    "    motor_b2.value(FWD)\n",
    "\n",
    "def car_rev():\n",
    "    motor_a1.value(1)    #l\n",
    "    motor_a2.value(REV)\n",
    "    motor_b1.value(1)    #r\n",
    "    motor_b2.value(REV)\n",
    "\n",
    "def car_stop():\n",
    "    motor_a1.value(0)    #l\n",
    "    motor_a2.value(FWD)\n",
    "    motor_b1.value(0)    #r\n",
    "    motor_b2.value(FWD)\n",
    "\n",
    "def car_right():\n",
    "    motor_a1.value(1)     #l\n",
    "    motor_a2.value(FWD)\n",
    "    motor_b1.value(0)     #r\n",
    "    motor_b2.value(FWD)\n",
    "\n",
    "def car_left():\n",
    "    motor_a1.value(0)     #l\n",
    "    motor_a2.value(FWD)\n",
    "    motor_b1.value(1)     #r\n",
    "    motor_b2.value(FWD)\n",
    "\n",
    "# 快速右轉\n",
    "def car_right2():\n",
    "    motor_a1.value(1)    #l\n",
    "    motor_a2.value(FWD)\n",
    "    motor_b1.value(1)    #r\n",
    "    motor_b2.value(REV)    \n",
    "\n",
    "# 快速左轉\n",
    "def car_left2():\n",
    "    motor_a1.value(1)    #l\n",
    "    motor_a2.value(REV)\n",
    "    motor_b1.value(1)    #r\n",
    "    motor_b2.value(FWD)\n",
    "\n",
    "\n",
    "#Setup Socket WebServer\n",
    "s = socket.socket(socket.AF_INET, socket.SOCK_STREAM)\n",
    "s.bind(('0.0.0.0', 80))\n",
    "s.listen(5)\n",
    "while True:\n",
    "    conn, addr = s.accept()\n",
    "    print(\"Got a connection from %s\" % str(addr))\n",
    "    request = conn.recv(1024)\n",
    "    print(\"Content = %s\" % str(request))\n",
    "\n",
    "    request = str(request)\n",
    "    led_on = request.find('GET /?LED=ON')\n",
    "    led_off = request.find('GET /?LED=OFF')\n",
    "    car_fwd_action = request.find('GET /?car=FWD')\n",
    "    car_rev_action = request.find('GET /?car=REV')\n",
    "    car_left_action = request.find('GET /?car=LEFT')\n",
    "    car_right_action = request.find('GET /?car=RIGHT')\n",
    "\n",
    "\n",
    "    if led_on >= 0:\n",
    "        print('TURN Led ON')\n",
    "        led.value(0)\n",
    "    if led_off >= 0:\n",
    "        print('TURN Led OFF')\n",
    "        led.value(1)\n",
    "\n",
    "    if car_fwd_action >= 0:\n",
    "        print('Car Forward')\n",
    "        car_fwd()\n",
    "        time.sleep(1)\n",
    "        car_stop()\n",
    "    if car_rev_action >= 0:\n",
    "        print('Car Back')\n",
    "        car_rev()\n",
    "        time.sleep(1)\n",
    "        car_stop()\n",
    "    if car_left_action >= 0:\n",
    "        print('Car Left')\n",
    "        car_left()\n",
    "        time.sleep(1)\n",
    "        car_stop()\n",
    "    if car_right_action >= 0:\n",
    "        print('Car Right')\n",
    "        car_right()\n",
    "        time.sleep(1)\n",
    "        car_stop()\n",
    "\n",
    "    f = open('webtool.html')\n",
    "\n",
    "    while(1):\n",
    "        html = f.read(1024)\n",
    "\n",
    "        conn.sendall(html) #改用send all就不會有資料傳一半的問題\n",
    "        if(len(html)<=0):\n",
    "            break\n",
    "    f.close()\n",
    "    conn.close()\n"
   ]
  },
  {
   "cell_type": "markdown",
   "metadata": {},
   "source": [
    "- 燒錄webtool.html"
   ]
  },
  {
   "cell_type": "code",
   "execution_count": 94,
   "metadata": {},
   "outputs": [
    {
     "name": "stdout",
     "output_type": "stream",
     "text": [
      "Sent 40 lines (1036 bytes) to webtool.html.\n"
     ]
    }
   ],
   "source": [
    "%sendtofile webtool.html\n",
    "\n",
    "<!DOCTYPE html>\n",
    "<html>\n",
    "<head> <title>upy webserver</title> </head>\n",
    "<center><h2>Smart Car Web Tool</h2></center>\n",
    "<h3>\n",
    "webREPL: <a href=\"http://micropython.org/webrepl/\" target=\"_blank\">webrepl</a>\n",
    "<br>\n",
    "Doc: <a href=\"https://docs.micropython.org/en/latest/esp8266/esp8266/quickref.html\" target=\"_blank\">Quick reference</a>\n",
    "</h3>\n",
    "<hr>\n",
    "\n",
    "<form>\n",
    "<b>LED (D4):</b><br>\n",
    "<button name=\"LED\" value=\"ON\" type=\"submit\">ON</button><br>\n",
    "<button name=\"LED\" value=\"OFF\" type=\"submit\">OFF</button><br>\n",
    "</form>\n",
    "\n",
    "<form>\n",
    "    <b>CAR (D1,2,3,4):</b><br>\n",
    "    <button name=\"car\" value=\"FWD\" type=\"submit\">Forward</button><br>\n",
    "    <button name=\"car\" value=\"REV\" type=\"submit\">Back</button><br>\n",
    "    <button name=\"car\" value=\"LEFT\" type=\"submit\">Left</button><br>\n",
    "    <button name=\"car\" value=\"RIGHT\" type=\"submit\">Right</button><br>\n",
    "</form>\n",
    "\n",
    "<hr>\n",
    "GPIO Info. :<br>\n",
    "<pre>\n",
    "D0 = 16\n",
    "D1 = 5  #A-, speed\n",
    "D2 = 4  #B-, speed\n",
    "D3 = 0  #A+, dir\n",
    "D4 = 2  #B+, dir  #Led on board \n",
    "D5 = 14 #IR Line Tracking Sensor\n",
    "D6 = 12 #IR Line Tracking Sensor\n",
    "D7 = 13\n",
    "D8 = 15 \n",
    "</pre>\n",
    "\n",
    "</html>"
   ]
  },
  {
   "cell_type": "code",
   "execution_count": null,
   "metadata": {},
   "outputs": [],
   "source": []
  }
 ],
 "metadata": {
  "kernelspec": {
   "display_name": "MicroPython - USB",
   "language": "micropython",
   "name": "micropython"
  },
  "language_info": {
   "codemirror_mode": "python",
   "file_extension": ".py",
   "mimetype": "text/python",
   "name": "micropython"
  }
 },
 "nbformat": 4,
 "nbformat_minor": 2
}
