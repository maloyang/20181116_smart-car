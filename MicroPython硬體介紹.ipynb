{
 "cells": [
  {
   "cell_type": "markdown",
   "metadata": {},
   "source": [
    "# MicroPython 介紹\n",
    "\n",
    "### 外觀\n",
    "![esp-lolin](image/esp-lolin.png)\n",
    "\n",
    "* 這一張圖很重要!!很重要!!很重要!!\n",
    "* 因為ESP上的D1~D8並不是我們在microPython中的代號，如D4在microPython中為pin2，因此要寫 machine.Pin(2, machine.Pin.OUT) \n",
    "<code>\n",
    "D0 = 16\n",
    "D1 = 5  #PWM\n",
    "D2 = 4  #PWM\n",
    "D3 = 0  #PWM\n",
    "D4 = 2  #PWM, #Led on board\n",
    "D5 = 14 #PWM\n",
    "D6 = 12 #PWM\n",
    "D7 = 13 #PWM\n",
    "D8 = 15 #PWM\n",
    "</code>"
   ]
  },
  {
   "cell_type": "markdown",
   "metadata": {},
   "source": [
    "## 簡介 (ESP12E)\n",
    "\n",
    "簡而言之，這是一個單晶片，就像電機/電子科系的學生時代使用的8051、STM32的單晶片MCU一樣。  \n",
    "只是這類單晶片一般使用C語言開發，我們現在使用彈性更高、更好入手的Python語言!\n",
    "\n",
    "- 32位元80MHz處理器\n",
    "- 4MB Flash\n",
    "- 80kB user-data ram\n",
    "- 內建WiFi模組: 11b/g/n, Station/AP雙模支持\n",
    "- –40°C ~ 125°C\n",
    "- [模組介紹-英](https://www.kloppenborg.net/images/blog/esp8266/esp8266-esp12e-specs.pdf)\n",
    "- [模組介紹-中](https://www.espressif.com/sites/default/files/documentation/0a-esp8266ex_datasheet_cn.pdf)"
   ]
  },
  {
   "cell_type": "markdown",
   "metadata": {},
   "source": [
    "## USB Driver下載\n",
    "\n",
    "\n",
    "### for win7 and win10\n",
    "\n",
    "- cp2102\n",
    "\n",
    "https://www.silabs.com/products/development-tools/software/usb-to-uart-bridge-vcp-drivers\n",
    "\n",
    "\n",
    "### for win7 (win10會自動安裝)\n",
    "\n",
    "- CH340\n",
    "\n",
    "https://www.arduined.eu/ch340g-converter-windows-7-driver-download/\n",
    "\n"
   ]
  },
  {
   "cell_type": "markdown",
   "metadata": {},
   "source": [
    "### 燒錄MicroPython firmware\n",
    "- 由這邊下載 [Firmware映象檔](http://micropython.org/download#esp8266)\n",
    "- 已有下載一份在\"Binaries\"\n",
    "- 安裝燒錄Firmware的工具: esptool.py\n",
    "    - pip install esptool\n",
    "- 燒錄流程：\n",
    "    - Erase  \n",
    "    esptool.py --port com12 erase_flash\n",
    "    - 燒錄  \n",
    "    esptool.py --port com12 --baud 460800 write_flash --flash_size=detect -fm dio 0 esp8266-20180511-v1.9.4.bin\n",
    "\n",
    "----\n"
   ]
  },
  {
   "cell_type": "markdown",
   "metadata": {},
   "source": [
    "### 方便的Serial操作工具: adafruit-ampy    \n",
    "\n",
    "在操作的時候，若遇到cp2102的usb晶片有可能會遇到無法進入raw-repl的問題，這時可以在指令中加入 -d 1 多一個delay就可以解決，如：`ampy --port com12 -d 1 ls`\n",
    "\n",
    "- 安裝方式  \n",
    "pip install adafruit-ampy\n",
    "- put script into board  \n",
    "ampy --port com12 put test.py\n",
    "- Run code  \n",
    "ampy --port com12 run test.py\n",
    "- Run code forever but no waiting  \n",
    "ampy --port com12 run test2.py --no-output\n",
    "- Reset  \n",
    "ampy --port com12 reset\n",
    "- List files  \n",
    "ampy --port com12 ls\n",
    "- Make dir  \n",
    "ampy --port com12 mkdir dir3\n",
    "- Remove dir  \n",
    "ampy --port com12 rmdir dir3\n",
    "- Remove file  \n",
    "ampy --port com12 rm data.txt\n",
    "\n",
    "----\n"
   ]
  },
  {
   "cell_type": "markdown",
   "metadata": {},
   "source": [
    "## 打開webrepl，方便使用jupyter-notebook操作自走車\n",
    "\n",
    "以下為使用winpy套件的操作方式\n",
    "\n",
    "- 執行WinPython Command Prompt\n",
    "\n",
    "- 進入\n",
    "    - cd ..\n",
    "    - cd python-3.7.1\n",
    "    - cd Scripts\n",
    "\n",
    "- 執行miniterm程式\n",
    "    - python miniterm.py com3 115200\n",
    "    \n",
    "- 開啟webrepl\n",
    "\n",
    "```\n",
    ">>> import webrepl_setup\n",
    "WebREPL daemon auto-start status: disabled\n",
    "\n",
    "Would you like to (E)nable or (D)isable it running on boot?\n",
    "(Empty line to quit)\n",
    "> E\n",
    "To enable WebREPL, you must set password for it\n",
    "New password (4-9 chars): 1234\n",
    "Confirm password: 1234\n",
    "Changes will be activated after reboot\n",
    "Would you like to reboot now? (y/n) y\n",
    ">>>\n",
    "```\n",
    "\n"
   ]
  },
  {
   "cell_type": "markdown",
   "metadata": {},
   "source": [
    "----\n",
    "\n",
    "## 連到你的MicroPython設備，並使用網頁進行測試\n",
    "\n",
    "- 請先接上USB電源\n",
    "\n",
    "- 分辨你的硬體\n",
    "\n",
    "    - 在windows右下角可以看到如下圖的WiFi列表，請確認您拿到的材料包上的編號，WiFi清單中，ID和材料包上的ID相同的，那一個wifi-AP就是你的板子發出來的訊息。\n",
    "    - WiFi SSID名稱後面帶的是目前MicroPython硬體被配發的IP。請在web-browser上輸入這一個IP就可以看到測試的網頁。\n",
    "\n",
    "![pic](image/wifi-list.png)\n",
    "\n",
    " \n",
    "- 用網頁進行硬體測試，請點Led的ON, OFF測試你的板子上Led燈是否正確開關，如果是，表示你已連結到自己的板子。\n",
    "\n",
    "![pic](image/upy-web.png)\n"
   ]
  },
  {
   "cell_type": "markdown",
   "metadata": {},
   "source": [
    "----\n",
    "\n",
    "## WebRepl: 網頁版的互動工具(不需要USB連接)\n",
    "\n",
    "### 方便的網頁指令操作介面\n",
    "\n",
    "圖文教學如何使用webrepl，並寫一個控制led的程式\n",
    "\n",
    "- 先使用網頁連到MicroPython板子的網頁，點上面的「webrepl」的連結，會帶到webrepl的頁面\n",
    "\n",
    "![webrepl1](image/webrepl1.png)\n",
    "\n",
    "- 在webrepl的頁面如下圖，左上方是連結設定區，左下方是指令輸入區，右方是寫入程式檔案的功能區\n",
    "\n",
    "![webrepl2](image/webrepl2.png)\n",
    "\n",
    "- 先在連結設定區，輸入你的MicroPython目前的IP，並按connect，密碼目前預設「1234」\n",
    "- 連上後，請照圖上的指令輸入區輪入指令，完成控制Led的功能\n",
    "\n",
    "![webrepl3](image/webrepl3.png)\n",
    "\n",
    "----\n"
   ]
  },
  {
   "cell_type": "markdown",
   "metadata": {},
   "source": [
    "## GPIO控制\n",
    "\n"
   ]
  },
  {
   "cell_type": "code",
   "execution_count": null,
   "metadata": {
    "collapsed": true
   },
   "outputs": [],
   "source": [
    "# 控制板子上的Led燈\n",
    "from machine import Pin\n",
    "import time\n",
    "\n",
    "p = Pin(2, Pin.OUT) #D4\n",
    "\n",
    "for i in range(6):\n",
    "    p.value(not p.value())\n",
    "    time.sleep(1)"
   ]
  },
  {
   "cell_type": "markdown",
   "metadata": {},
   "source": [
    "### TODO:\n",
    "\n",
    "- 連到你的板子的web tool，並使用網頁控制Led，確認連到的是你的板子\n",
    "\n",
    "- 打開webrepl，輸入上面的這一個GPIO範例，確認有辨法用程式和MicroPython板子互動\n",
    "\n",
    "    - 剛連上時應該是無法輸入指令的，請按「Ctrl ^ C」把網頁功能中斷，才能和webrepl互動\n",
    "    "
   ]
  }
 ],
 "metadata": {
  "kernelspec": {
   "display_name": "Python 3",
   "language": "python",
   "name": "python3"
  },
  "language_info": {
   "codemirror_mode": {
    "name": "ipython",
    "version": 3
   },
   "file_extension": ".py",
   "mimetype": "text/x-python",
   "name": "python",
   "nbconvert_exporter": "python",
   "pygments_lexer": "ipython3",
   "version": "3.6.6"
  }
 },
 "nbformat": 4,
 "nbformat_minor": 2
}
