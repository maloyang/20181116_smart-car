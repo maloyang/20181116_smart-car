{
 "cells": [
  {
   "cell_type": "markdown",
   "metadata": {},
   "source": [
    "# UDP Control setting\n",
    "\n",
    "----\n",
    "\n",
    "## android\n",
    "\n",
    "![remote-control-app1](image/remote-control-app1.png)\n",
    "\n",
    "- 設定1\n",
    "\n",
    "![android-app1](image/android-app1.jpg)\n",
    "\n",
    "- 設定2\n",
    "\n",
    "![android-app2](image/android-app2.jpg)\n",
    "\n",
    "- 設定3\n",
    "\n",
    "![android-app3](image/android-app3.jpg)\n",
    "\n",
    "- 設定4\n",
    "\n",
    "![android-app4](image/android-app4.jpg)\n",
    "\n",
    "- 設定5\n",
    "\n",
    "![android-app5](image/android-app5.jpg)\n",
    "\n",
    "- 設定6\n",
    "\n",
    "![android-app6](image/android-app6.jpg)\n",
    "\n",
    "- 設定7\n",
    "\n",
    "![android-app7](image/android-app7.jpg)\n",
    "\n",
    "## ios\n",
    "\n",
    "![remote-control-app2](image/remote-control-app2.png)\n",
    "\n",
    "- 設定1\n",
    "\n",
    "![iphone-app1](image/iphone-app1.jpg)\n",
    "\n",
    "- 設定2\n",
    "\n",
    "![iphone-app2](image/iphone-app2.jpg)\n",
    "\n",
    "- 設定3\n",
    "\n",
    "![iphone-app3](image/iphone-app3.jpg)\n"
   ]
  }
 ],
 "metadata": {
  "kernelspec": {
   "display_name": "Python 3",
   "language": "python",
   "name": "python3"
  },
  "language_info": {
   "codemirror_mode": {
    "name": "ipython",
    "version": 3
   },
   "file_extension": ".py",
   "mimetype": "text/x-python",
   "name": "python",
   "nbconvert_exporter": "python",
   "pygments_lexer": "ipython3",
   "version": "3.6.5"
  }
 },
 "nbformat": 4,
 "nbformat_minor": 2
}
