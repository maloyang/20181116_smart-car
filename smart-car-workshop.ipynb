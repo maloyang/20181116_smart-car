{
 "cells": [
  {
   "cell_type": "markdown",
   "metadata": {},
   "source": [
    "# 智慧自走車工作坊\n",
    "\n",
    "- MicroPython 基本硬體介紹\n",
    "- 自走車各部元件測試\n",
    "- 智慧自走車組裝、實作\n",
    "- 智慧IoT遙控車\n",
    "\n",
    "----\n"
   ]
  },
  {
   "cell_type": "markdown",
   "metadata": {},
   "source": [
    "## 課程大綱\n",
    "\n",
    "- ESP-12 MicroPython介紹\n",
    "    - 基本硬體說明\n",
    "    - 燒MicroPython Firmware\n",
    "    - 設定webrepl\n",
    "    - 載入webtool\n",
    "    - webtool測試硬體\n",
    "    \n",
    "- 下載WinPy.zip，做為互動式的開發工具\n",
    "    - 下載說明\n",
    "    - MicroPython kernel設定方式\n",
    "    - 連線控制Led測試\n",
    "    \n",
    "- 沿線自走車燒錄\n",
    "\n",
    "- 自走車控制練習\n",
    "    - 轉圈\n",
    "    - 走八字…等自行設計的動作\n",
    "    \n",
    "- 遙控車設計\n",
    "    - 燒錄基本程式\n",
    "    - 設計特技動作按鈕\n",
    "    \n",
    "- 防摔自走車\n",
    "\n",
    "----\n"
   ]
  },
  {
   "cell_type": "markdown",
   "metadata": {},
   "source": [
    "## 1、MicroPython硬體介紹\n",
    "\n",
    "- [基本硬體介紹](./MicroPython硬體介紹.ipynb)\n",
    "\n",
    "----\n"
   ]
  },
  {
   "cell_type": "markdown",
   "metadata": {},
   "source": [
    "## 自走車組裝、測試\n",
    "\n",
    "- 使用webtool, 可以控制Led, 馬達\n",
    "- 測試網頁源始碼: 請見「webdemo」資料夾\n",
    "- [用Jupyter Notebook燒錄測試網頁](自走車0-測試網頁.ipynb)\n",
    "\n",
    "----"
   ]
  },
  {
   "cell_type": "markdown",
   "metadata": {},
   "source": [
    "## 2、WinPy工具：使用Jupyter-Notebook來控制自走車\n",
    "\n",
    "- 程式下載\n",
    "    - 下載「WPy-3710-zero-car.zip」，並解壓縮\n",
    "\n",
    "- MicroPython Kernel設定\n",
    "    - 執行「WinPython Command Prompt」\n",
    "    - 下指令「pip install -e jupyter_micropython_kernel-master」\n",
    "    - 下指令「python -m jupyter_micropython_kernel.install」\n",
    "    - 下指令「jupyter kernelspec list」\n",
    "    - 確認是否已有MicroPython核心\n",
    "    - ![image](image/micropython-kernel.png)\n",
    "\n",
    "- 連線控制Led\n"
   ]
  },
  {
   "cell_type": "markdown",
   "metadata": {},
   "source": [
    "*** 有時在使用USB連線時，部份USB晶片會碰到連上，但進不了指令模式，這時先下「%serialconnect to --port=com13 --baud=115200 --raw」指令，再執行「%serialconnect to --port=com13 --baud=115200」就可以順利的進入指令模式。"
   ]
  },
  {
   "cell_type": "code",
   "execution_count": 7,
   "metadata": {},
   "outputs": [
    {
     "name": "stdout",
     "output_type": "stream",
     "text": [
      "\u001b[34mConnecting to --port=com13 --baud=115200 \u001b[0m\n"
     ]
    }
   ],
   "source": [
    "%serialconnect to --port=com13 --baud=115200 --raw"
   ]
  },
  {
   "cell_type": "code",
   "execution_count": 8,
   "metadata": {},
   "outputs": [
    {
     "name": "stdout",
     "output_type": "stream",
     "text": [
      "\u001b[34mConnecting to --port=com13 --baud=115200 \u001b[0m\n",
      "\u001b[34mReady.\n",
      "\u001b[0m"
     ]
    }
   ],
   "source": [
    "%serialconnect to --port=com13 --baud=115200"
   ]
  },
  {
   "cell_type": "code",
   "execution_count": null,
   "metadata": {},
   "outputs": [],
   "source": [
    "%websocketconnect --password 1234 ws://192.168.43.73:8266"
   ]
  },
  {
   "cell_type": "code",
   "execution_count": 9,
   "metadata": {},
   "outputs": [],
   "source": [
    "from machine import Pin\n",
    "import time\n",
    "\n",
    "D4 = 2  #PWM, #Led on board\n",
    "led = Pin(D4, Pin.OUT)\n",
    "led.value(0)\n",
    "for i in range(6):\n",
    "    led.value(not led.value())\n",
    "    time.sleep(0.5)"
   ]
  },
  {
   "cell_type": "markdown",
   "metadata": {},
   "source": [
    "## 3、循線自走車\n",
    "\n",
    "利用紅外線傳感器偵測「黑線」並沿著線走\n",
    "\n",
    "- [自走車程式燒錄](自走車2IR-2-沿線走.ipynb)\n"
   ]
  },
  {
   "cell_type": "markdown",
   "metadata": {},
   "source": [
    "## 4、自走車控制練習\n",
    "\n",
    "- [接著使用上一章的程式頁面，撰寫程式控制自走車](自走車2IR-2-沿線走.ipynb)\n",
    "\n",
    "- <1>轉圈圈\n",
    "\n",
    "- <2>走八字\n"
   ]
  },
  {
   "cell_type": "markdown",
   "metadata": {},
   "source": [
    "## 5、遙控車\n",
    "\n",
    "- [遙控車程式燒錄](自走車2IR-1-遙控車.ipynb)"
   ]
  },
  {
   "cell_type": "markdown",
   "metadata": {},
   "source": [
    "## 6、防摔自走車\n",
    "\n",
    "- 可使用二輪方向為前進方向，並利用紅外線傳感器確認地面\n",
    "\n",
    "- 但比較建議使用單輪的方向為前進方向，因為一個輪子比較容易調整紅外線位置\n",
    "\n",
    "- [防摔自走車程式燒錄](自走車2IR-3-防跌自走車.ipynb)"
   ]
  },
  {
   "cell_type": "code",
   "execution_count": null,
   "metadata": {
    "collapsed": true
   },
   "outputs": [],
   "source": []
  }
 ],
 "metadata": {
  "kernelspec": {
   "display_name": "MicroPython - USB",
   "language": "micropython",
   "name": "micropython"
  },
  "language_info": {
   "codemirror_mode": "python",
   "file_extension": ".py",
   "mimetype": "text/python",
   "name": "micropython"
  }
 },
 "nbformat": 4,
 "nbformat_minor": 2
}
