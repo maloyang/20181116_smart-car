{
 "cells": [
  {
   "cell_type": "markdown",
   "metadata": {
    "collapsed": true
   },
   "source": [
    "# 遙控車"
   ]
  },
  {
   "cell_type": "code",
   "execution_count": 2,
   "metadata": {},
   "outputs": [
    {
     "name": "stdout",
     "output_type": "stream",
     "text": [
      "Websocket Timeout after 5 seconds ws://192.168.43.2:8266\n"
     ]
    }
   ],
   "source": [
    "%websocketconnect --password 1234 ws://192.168.43.2:8266"
   ]
  },
  {
   "cell_type": "code",
   "execution_count": 17,
   "metadata": {},
   "outputs": [
    {
     "name": "stdout",
     "output_type": "stream",
     "text": [
      "\u001b[34mConnecting to --port=com13 --baud=115200 \u001b[0m\n",
      "\u001b[34mReady.\n",
      "\u001b[0m"
     ]
    }
   ],
   "source": [
    "%serialconnect to --port=com13 --baud=115200"
   ]
  },
  {
   "cell_type": "markdown",
   "metadata": {},
   "source": [
    "### UDP測試\n",
    "\n",
    "[設定方式](udp-control-setting.ipynb)\n",
    "\n",
    "- 控制Led\n",
    "\n",
    "- [Android控制器程式](https://play.google.com/store/apps/details?id=udpcontroller.nomal)\n",
    "\n",
    "![remote-control-app1](image/remote-control-app1.png)\n",
    "\n",
    "- [iphone版控制器程式](https://itunes.apple.com/us/app/udp-commander/id977326536?mt=8)\n",
    "\n",
    "![remote-control-app2](image/remote-control-app2.png)"
   ]
  },
  {
   "cell_type": "markdown",
   "metadata": {},
   "source": [
    "# 自製遙控車"
   ]
  },
  {
   "cell_type": "code",
   "execution_count": 2,
   "metadata": {},
   "outputs": [
    {
     "name": "stdout",
     "output_type": "stream",
     "text": [
      "Sent 121 lines (2385 bytes) to main.py.\n"
     ]
    }
   ],
   "source": [
    "%sendtofile main.py\n",
    "\n",
    "# 定義\n",
    "import machine\n",
    "from machine import Pin\n",
    "from machine import PWM\n",
    "import time\n",
    "import socket\n",
    "\n",
    "# PIN Define:\n",
    "D0 = 16\n",
    "D1 = 5  #PWM\n",
    "D2 = 4  #PWM\n",
    "D3 = 0  #PWM\n",
    "D4 = 2  #PWM, #Led on board\n",
    "D5 = 14 #PWM\n",
    "D6 = 12 #PWM\n",
    "D7 = 13 #PWM\n",
    "D8 = 15 #PWM\n",
    "\n",
    "#Setup PINS\n",
    "led = Pin(D4, Pin.OUT)\n",
    "for i in range(5):\n",
    "    led.value(not led.value())\n",
    "    time.sleep(0.2)\n",
    "    \n",
    "# ir\n",
    "IrR = Pin(D5, Pin.IN) #Right\n",
    "IrL = Pin(D6, Pin.IN) #Left\n",
    "IrM = Pin(D7, Pin.IN) #Middle\n",
    "\n",
    "# for motor sheilf\n",
    "motor_a1 = machine.Pin(D1, machine.Pin.OUT) #A-, speed\n",
    "motor_a2 = machine.Pin(D3, machine.Pin.OUT) #A+, dir\n",
    "motor_b1 = machine.Pin(D2, machine.Pin.OUT) #B-, speed\n",
    "motor_b2 = machine.Pin(D4, machine.Pin.OUT) #B+, dir\n",
    "FWD = 0\n",
    "REV = 1\n",
    "    \n",
    "def car_fwd():\n",
    "    motor_a1.value(1)    #l\n",
    "    motor_a2.value(FWD)\n",
    "    motor_b1.value(1)    #r\n",
    "    motor_b2.value(FWD)\n",
    "\n",
    "def car_rev():\n",
    "    motor_a1.value(1)    #l\n",
    "    motor_a2.value(REV)\n",
    "    motor_b1.value(1)    #r\n",
    "    motor_b2.value(REV)\n",
    "\n",
    "def car_stop():\n",
    "    motor_a1.value(0)    #l\n",
    "    motor_a2.value(FWD)\n",
    "    motor_b1.value(0)    #r\n",
    "    motor_b2.value(FWD)\n",
    "\n",
    "def car_right():\n",
    "    motor_a1.value(1)     #l\n",
    "    motor_a2.value(FWD)\n",
    "    motor_b1.value(0)     #r\n",
    "    motor_b2.value(FWD)\n",
    "\n",
    "def car_left():\n",
    "    motor_a1.value(0)     #l\n",
    "    motor_a2.value(FWD)\n",
    "    motor_b1.value(1)     #r\n",
    "    motor_b2.value(FWD)\n",
    "\n",
    "# 快速右轉\n",
    "def car_right2():\n",
    "    motor_a1.value(1)    #l\n",
    "    motor_a2.value(FWD)\n",
    "    motor_b1.value(1)    #r\n",
    "    motor_b2.value(REV)    \n",
    "\n",
    "# 快速左轉\n",
    "def car_left2():\n",
    "    motor_a1.value(1)    #l\n",
    "    motor_a2.value(REV)\n",
    "    motor_b1.value(1)    #r\n",
    "    motor_b2.value(FWD)\n",
    "\n",
    "\n",
    "# go~\n",
    "address = ('0.0.0.0', 1234)\n",
    "s = socket.socket(socket.AF_INET, socket.SOCK_DGRAM)\n",
    "s.bind(address)\n",
    "\n",
    "#\n",
    "car_left()\n",
    "time.sleep(0.5)\n",
    "car_right()\n",
    "time.sleep(0.5)\n",
    "car_stop()\n",
    "\n",
    "MOVE_DELAY = 0.1\n",
    "while(True):\n",
    "    car_stop()\n",
    "    \n",
    "    data, addr = s.recvfrom(1234)\n",
    "    print('received:',data,'from',addr)\n",
    "    if(data[:1]==b'f'):\n",
    "        car_fwd()\n",
    "        time.sleep(MOVE_DELAY)\n",
    "    if(data[:1]==b'b'):\n",
    "        car_rev()\n",
    "        time.sleep(MOVE_DELAY)\n",
    "    if(data[:1]==b'r'):\n",
    "        car_right()\n",
    "        time.sleep(MOVE_DELAY)\n",
    "    if(data[:1]==b'l'):\n",
    "        car_left()\n",
    "        time.sleep(MOVE_DELAY)\n",
    "    if(data[:1]==b'R'):\n",
    "        car_right2()\n",
    "        time.sleep(MOVE_DELAY)\n",
    "    if(data[:1]==b'L'):\n",
    "        car_left2()\n",
    "        time.sleep(MOVE_DELAY)\n",
    "    if(data[:1]==b's'):\n",
    "        car_stop()\n",
    "        time.sleep(MOVE_DELAY)\n"
   ]
  },
  {
   "cell_type": "markdown",
   "metadata": {
    "collapsed": true
   },
   "source": [
    "----\n",
    "\n",
    "### 設計你的特技動作\n",
    "\n",
    "- 搖頭\n",
    "- 轉小圈、轉大圈\n",
    "- 一鍵跑8字\n",
    "- ...etc"
   ]
  },
  {
   "cell_type": "code",
   "execution_count": null,
   "metadata": {},
   "outputs": [],
   "source": [
    "# TODO:"
   ]
  }
 ],
 "metadata": {
  "kernelspec": {
   "display_name": "MicroPython - USB",
   "language": "micropython",
   "name": "micropython"
  },
  "language_info": {
   "codemirror_mode": "python",
   "file_extension": ".py",
   "mimetype": "text/python",
   "name": "micropython"
  }
 },
 "nbformat": 4,
 "nbformat_minor": 2
}
